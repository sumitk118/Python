{
 "cells": [
  {
   "cell_type": "code",
   "execution_count": 15,
   "id": "10676cc8",
   "metadata": {},
   "outputs": [
    {
     "name": "stdout",
     "output_type": "stream",
     "text": [
      "Enter string :sumit\n",
      "Not Palimdrome\n"
     ]
    }
   ],
   "source": [
    "#1.Check whether string is palimdrome or not\n",
    "s=input('Enter string :')\n",
    "if s==s[::-1]:\n",
    "    print('Palimdrone')\n",
    "else:\n",
    "    print('Not Palimdrome')"
   ]
  },
  {
   "cell_type": "code",
   "execution_count": 16,
   "id": "4a028c76",
   "metadata": {},
   "outputs": [
    {
     "name": "stdout",
     "output_type": "stream",
     "text": [
      "Enter a String python\n",
      "No of Vowels : 1\n"
     ]
    }
   ],
   "source": [
    "#2.Count no. of vovels\n",
    "st=input('Enter a String ')\n",
    "c=0\n",
    "for i in st:\n",
    "    if i in 'aeiou':\n",
    "        c=c+1\n",
    "print('No of Vowels :',c)"
   ]
  },
  {
   "cell_type": "code",
   "execution_count": 9,
   "id": "29fb3d6b",
   "metadata": {},
   "outputs": [
    {
     "name": "stdout",
     "output_type": "stream",
     "text": [
      "Enter string : occurences\n",
      "Enter char to remove : c\n",
      "String after removing all occurences ourenes\n"
     ]
    }
   ],
   "source": [
    "#3.To remove all occurences of given char \n",
    "string=input('Enter string : ')\n",
    "char=input('Enter char to remove : ')\n",
    "new=''\n",
    "for i in string:\n",
    "    if i!=char:\n",
    "        new+=i\n",
    "print('String after removing all occurences',new)"
   ]
  },
  {
   "cell_type": "code",
   "execution_count": 17,
   "id": "bdffa441",
   "metadata": {},
   "outputs": [
    {
     "name": "stdout",
     "output_type": "stream",
     "text": [
      "Enter string 1 :mary\n",
      "Enter string 2 :army\n",
      "Anagram\n"
     ]
    }
   ],
   "source": [
    "#4.Check whether string is anagram or not\n",
    "s1=input('Enter string 1 :')\n",
    "s2=input('Enter string 2 :')\n",
    "\n",
    "if sorted(s1)==sorted(s2):\n",
    "    print('Anagram')\n",
    "else:\n",
    "    print('Not Anagram')"
   ]
  },
  {
   "cell_type": "code",
   "execution_count": 20,
   "id": "05e2f8a9",
   "metadata": {},
   "outputs": [
    {
     "name": "stdout",
     "output_type": "stream",
     "text": [
      "Reverse string --> nuf si nohtyP\n"
     ]
    }
   ],
   "source": [
    "#5.Reverse each word in string\n",
    "s='Python is fun'\n",
    "s=s[::-1]\n",
    "print('Reverse string -->',s)"
   ]
  },
  {
   "cell_type": "code",
   "execution_count": 23,
   "id": "5ebf15e6",
   "metadata": {},
   "outputs": [
    {
     "name": "stdout",
     "output_type": "stream",
     "text": [
      "5\n"
     ]
    }
   ],
   "source": [
    "#6.Find frequency of character\n",
    "s='python programming code python program python'\n",
    "s1=s.count('p')\n",
    "print(s1)"
   ]
  },
  {
   "cell_type": "code",
   "execution_count": 6,
   "id": "ed6fbf67",
   "metadata": {},
   "outputs": [
    {
     "name": "stdout",
     "output_type": "stream",
     "text": [
      "['wake', 'up', 'to', 'the', 'reality', 'nothing', 'ever', 'goes', 'as', 'plan', 'in', 'this', 'accursed', 'world']\n",
      "wuttrnegapitaw\n"
     ]
    }
   ],
   "source": [
    "#7.Extract first alpha from given sentence to form new word\n",
    "str='wake up to the reality nothing ever goes as plan in this acursed world'\n",
    "st=str.split()\n",
    "print(st)\n",
    "let=[s[0] for s in st]\n",
    "print(\"\".join(let))"
   ]
  },
  {
   "cell_type": "code",
   "execution_count": 31,
   "id": "698f2224",
   "metadata": {},
   "outputs": [
    {
     "name": "stdout",
     "output_type": "stream",
     "text": [
      "Enter no. of rows : 5\n",
      "******\n",
      "*****\n",
      "****\n",
      "***\n",
      "**\n",
      "*\n"
     ]
    }
   ],
   "source": [
    "#8.Star pattern program\n",
    "r=int(input('Enter no. of rows : '))\n",
    "for i in range(r+1,0,-1):\n",
    "    for j in range(i):\n",
    "        print('*',end='')\n",
    "    print('')"
   ]
  },
  {
   "cell_type": "code",
   "execution_count": 3,
   "id": "a5db852f",
   "metadata": {},
   "outputs": [
    {
     "name": "stdout",
     "output_type": "stream",
     "text": [
      "Enter string : python\n",
      "qzuipo\n"
     ]
    }
   ],
   "source": [
    "#10.To replace every char by its next subsequent char\n",
    "string=input('Enter string : ')\n",
    "new=''\n",
    "for char in string:\n",
    "    char=chr(ord(char)+1)\n",
    "    new+=char\n",
    "print(new)"
   ]
  },
  {
   "cell_type": "code",
   "execution_count": 2,
   "id": "1f030fdd",
   "metadata": {},
   "outputs": [
    {
     "name": "stdout",
     "output_type": "stream",
     "text": [
      "Enter string :ahdghjj\n",
      "a 1\n",
      "h 2\n",
      "d 1\n",
      "g 1\n",
      "h 2\n",
      "j 2\n",
      "j 2\n"
     ]
    }
   ],
   "source": [
    "#11.To count number of character in string\n",
    "st=input('Enter string :') \n",
    "for i in st:\n",
    "    freq=st.count(i)\n",
    "    print(str(i),str(freq))"
   ]
  },
  {
   "cell_type": "code",
   "execution_count": 4,
   "id": "00916b05",
   "metadata": {},
   "outputs": [
    {
     "name": "stdout",
     "output_type": "stream",
     "text": [
      "Enter string : odd index values\n",
      "odidxvle\n"
     ]
    }
   ],
   "source": [
    "#12.Program to remove the characters which have odd index values\n",
    "string=input('Enter string : ')\n",
    "new=''\n",
    "for i in range(len(string)):\n",
    "    if i%2==0:\n",
    "        new+=string[i]\n",
    "print(new)"
   ]
  },
  {
   "cell_type": "code",
   "execution_count": 1,
   "id": "94baaf79",
   "metadata": {},
   "outputs": [
    {
     "name": "stdout",
     "output_type": "stream",
     "text": [
      "Enter string :sumit\n",
      "sumit 1\n"
     ]
    }
   ],
   "source": [
    "#13.To count occurance of each word in a given sentence\n",
    "sen=input('Enter string :')\n",
    "count={}\n",
    "word=sen.split()\n",
    "for i in word:\n",
    "    if i in count:\n",
    "        count[i]+=1\n",
    "    else:\n",
    "        count[i]=1\n",
    "for key,value in count.items():\n",
    "    print(key,value)"
   ]
  },
  {
   "cell_type": "code",
   "execution_count": 1,
   "id": "97d528b4",
   "metadata": {},
   "outputs": [
    {
     "name": "stdout",
     "output_type": "stream",
     "text": [
      "Enter stringsUMIT\n",
      "Sumit\n"
     ]
    }
   ],
   "source": [
    "#14.Swapcase and toggle cases\n",
    "string=input('Enter string')\n",
    "new=\"\"\n",
    "for char in string:\n",
    "    if char.isupper():\n",
    "        new+=char.lower()\n",
    "    else:\n",
    "        new+=char.upper()\n",
    "print(new)"
   ]
  },
  {
   "cell_type": "code",
   "execution_count": null,
   "id": "d779c135",
   "metadata": {},
   "outputs": [],
   "source": []
  }
 ],
 "metadata": {
  "kernelspec": {
   "display_name": "Python 3 (ipykernel)",
   "language": "python",
   "name": "python3"
  },
  "language_info": {
   "codemirror_mode": {
    "name": "ipython",
    "version": 3
   },
   "file_extension": ".py",
   "mimetype": "text/x-python",
   "name": "python",
   "nbconvert_exporter": "python",
   "pygments_lexer": "ipython3",
   "version": "3.9.13"
  }
 },
 "nbformat": 4,
 "nbformat_minor": 5
}
