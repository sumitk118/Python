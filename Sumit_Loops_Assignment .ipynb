{
 "cells": [
  {
   "cell_type": "code",
   "execution_count": 1,
   "id": "72d2e3ec",
   "metadata": {},
   "outputs": [
    {
     "name": "stdout",
     "output_type": "stream",
     "text": [
      "222 is Even\n",
      "224 is Even\n",
      "226 is Even\n",
      "228 is Even\n"
     ]
    }
   ],
   "source": [
    "#1.Print even no. from 221 to 229\n",
    "for i in range(221,229):\n",
    "    if i%2==0:\n",
    "        print(i,'is Even')"
   ]
  },
  {
   "cell_type": "code",
   "execution_count": 2,
   "id": "12d56cab",
   "metadata": {},
   "outputs": [
    {
     "name": "stdout",
     "output_type": "stream",
     "text": [
      "521 is odd\n",
      "519 is odd\n",
      "517 is odd\n",
      "515 is odd\n",
      "513 is odd\n",
      "511 is odd\n",
      "509 is odd\n",
      "507 is odd\n",
      "505 is odd\n",
      "503 is odd\n",
      "501 is odd\n",
      "499 is odd\n",
      "497 is odd\n",
      "495 is odd\n",
      "493 is odd\n",
      "491 is odd\n",
      "489 is odd\n",
      "487 is odd\n",
      "485 is odd\n",
      "483 is odd\n",
      "481 is odd\n",
      "479 is odd\n",
      "477 is odd\n",
      "475 is odd\n",
      "473 is odd\n",
      "471 is odd\n",
      "469 is odd\n",
      "467 is odd\n",
      "465 is odd\n",
      "463 is odd\n",
      "461 is odd\n",
      "459 is odd\n",
      "457 is odd\n",
      "455 is odd\n",
      "453 is odd\n",
      "451 is odd\n",
      "449 is odd\n",
      "447 is odd\n",
      "445 is odd\n",
      "443 is odd\n",
      "441 is odd\n",
      "439 is odd\n",
      "437 is odd\n",
      "435 is odd\n",
      "433 is odd\n",
      "431 is odd\n",
      "429 is odd\n",
      "427 is odd\n",
      "425 is odd\n",
      "423 is odd\n",
      "421 is odd\n",
      "419 is odd\n",
      "417 is odd\n",
      "415 is odd\n",
      "413 is odd\n",
      "411 is odd\n",
      "409 is odd\n",
      "407 is odd\n",
      "405 is odd\n",
      "403 is odd\n",
      "401 is odd\n",
      "399 is odd\n",
      "397 is odd\n",
      "395 is odd\n",
      "393 is odd\n",
      "391 is odd\n",
      "389 is odd\n",
      "387 is odd\n",
      "385 is odd\n",
      "383 is odd\n",
      "381 is odd\n",
      "379 is odd\n",
      "377 is odd\n",
      "375 is odd\n",
      "373 is odd\n",
      "371 is odd\n",
      "369 is odd\n",
      "367 is odd\n",
      "365 is odd\n",
      "363 is odd\n",
      "361 is odd\n",
      "359 is odd\n",
      "357 is odd\n",
      "355 is odd\n",
      "353 is odd\n",
      "351 is odd\n",
      "349 is odd\n",
      "347 is odd\n",
      "345 is odd\n",
      "343 is odd\n",
      "341 is odd\n",
      "339 is odd\n",
      "337 is odd\n",
      "335 is odd\n",
      "333 is odd\n",
      "331 is odd\n",
      "329 is odd\n",
      "327 is odd\n",
      "325 is odd\n",
      "323 is odd\n",
      "321 is odd\n",
      "319 is odd\n",
      "317 is odd\n",
      "315 is odd\n",
      "313 is odd\n",
      "311 is odd\n",
      "309 is odd\n",
      "307 is odd\n",
      "305 is odd\n",
      "303 is odd\n",
      "301 is odd\n",
      "299 is odd\n",
      "297 is odd\n",
      "295 is odd\n",
      "293 is odd\n",
      "291 is odd\n",
      "289 is odd\n",
      "287 is odd\n",
      "285 is odd\n",
      "283 is odd\n",
      "281 is odd\n",
      "279 is odd\n",
      "277 is odd\n",
      "275 is odd\n",
      "273 is odd\n",
      "271 is odd\n",
      "269 is odd\n",
      "267 is odd\n",
      "265 is odd\n",
      "263 is odd\n",
      "261 is odd\n",
      "259 is odd\n",
      "257 is odd\n",
      "255 is odd\n",
      "253 is odd\n",
      "251 is odd\n",
      "249 is odd\n",
      "247 is odd\n",
      "245 is odd\n",
      "243 is odd\n",
      "241 is odd\n",
      "239 is odd\n",
      "237 is odd\n",
      "235 is odd\n",
      "233 is odd\n",
      "231 is odd\n"
     ]
    }
   ],
   "source": [
    "#2.Print odd no. from 521 to 229\n",
    "for i in range(521,229,-1):\n",
    "    if i%2==1:\n",
    "        print(i,'is odd')"
   ]
  },
  {
   "cell_type": "code",
   "execution_count": 3,
   "id": "48fdccd5",
   "metadata": {},
   "outputs": [],
   "source": [
    "#3.Use of break statement\n",
    "for i in range(1,20):\n",
    "    if(i==18):\n",
    "        break\n",
    "        print(i)"
   ]
  },
  {
   "cell_type": "code",
   "execution_count": 4,
   "id": "6a5ab627",
   "metadata": {},
   "outputs": [
    {
     "name": "stdout",
     "output_type": "stream",
     "text": [
      "Enter First Number :12\n",
      "Enter Second Number :20\n",
      "LCM =  60\n"
     ]
    }
   ],
   "source": [
    "#4.LCM and GCD\n",
    "num1=int(input('Enter First Number :'))\n",
    "num2=int(input('Enter Second Number :'))\n",
    "if num1>num2:\n",
    "    lcm=num1\n",
    "else:\n",
    "    lcm=num2\n",
    "while True:\n",
    "    if lcm%num1==0 and lcm%num2==0:\n",
    "        break\n",
    "    else:\n",
    "        lcm=lcm+1\n",
    "print('LCM = ',lcm)        "
   ]
  },
  {
   "cell_type": "code",
   "execution_count": 10,
   "id": "0a40b4c0",
   "metadata": {},
   "outputs": [
    {
     "name": "stdout",
     "output_type": "stream",
     "text": [
      "a\n",
      "b\n",
      "c\n",
      "d\n",
      "e\n",
      "f\n",
      "g\n",
      "h\n",
      "i\n",
      "j\n",
      "k\n",
      "l\n",
      "m\n",
      "n\n",
      "o\n",
      "p\n",
      "q\n",
      "r\n",
      "s\n",
      "t\n",
      "u\n",
      "v\n",
      "w\n",
      "x\n",
      "y\n",
      "z\n"
     ]
    }
   ],
   "source": [
    "#5.Print alphabets in lower case\n",
    "for i in range(97,123):\n",
    "    print(chr(i))"
   ]
  },
  {
   "cell_type": "code",
   "execution_count": 11,
   "id": "f09cdd51",
   "metadata": {},
   "outputs": [
    {
     "name": "stdout",
     "output_type": "stream",
     "text": [
      "Enter number 20\n",
      "Addition of even numbers : 90\n"
     ]
    }
   ],
   "source": [
    "#6.Print sum of all even numbers from 1 to n\n",
    "n=int(input('Enter number '))\n",
    "res=0\n",
    "for i in range(1,n):\n",
    "    if i%2==0:\n",
    "        res=res+i\n",
    "print('Addition of even numbers :',res) "
   ]
  },
  {
   "cell_type": "code",
   "execution_count": 12,
   "id": "c840683c",
   "metadata": {},
   "outputs": [
    {
     "name": "stdout",
     "output_type": "stream",
     "text": [
      "Enter number : 20\n",
      "Addition of odd numbers : 100\n"
     ]
    }
   ],
   "source": [
    "#7.Print sum of all odd numbers from 1 to n\n",
    "n=int(input('Enter number : '))\n",
    "i=1\n",
    "res=0\n",
    "for i in range(1,n):\n",
    "    if i%2==1:\n",
    "        res=res+i\n",
    "print('Addition of odd numbers :',res) "
   ]
  },
  {
   "cell_type": "code",
   "execution_count": 15,
   "id": "a5e9461f",
   "metadata": {},
   "outputs": [
    {
     "name": "stdout",
     "output_type": "stream",
     "text": [
      "Enter number : 1236547895214\n",
      "13\n"
     ]
    }
   ],
   "source": [
    "#8.Count number of digits in any number\n",
    "num=int(input('Enter number : '))\n",
    "print(len(str(num)))"
   ]
  },
  {
   "cell_type": "code",
   "execution_count": null,
   "id": "b1f6a13f",
   "metadata": {},
   "outputs": [
    {
     "name": "stdout",
     "output_type": "stream",
     "text": [
      "Enter a number : 1379\n"
     ]
    }
   ],
   "source": [
    "#9.Calculate product of given number\n",
    "num=int(input('Enter a number : '))\n",
    "n=num\n",
    "prod=1\n",
    "while num>0:\n",
    "    rem=n%10\n",
    "    prod=prod*rem\n",
    "print(prod)"
   ]
  },
  {
   "cell_type": "code",
   "execution_count": 1,
   "id": "9b0c8d5e",
   "metadata": {},
   "outputs": [
    {
     "name": "stdout",
     "output_type": "stream",
     "text": [
      "Enter the number1236231\n",
      "Enter a Digit2\n",
      "2 occured 2 times in 1236231\n"
     ]
    }
   ],
   "source": [
    "#10.To find frequency of each digit in a given integer\n",
    "num = int(input(\"Enter the number\"))\n",
    "digit = int(input(\"Enter a Digit\"))\n",
    "count = 0\n",
    "n = num\n",
    "while n != 0:\n",
    "    rem = n % 10\n",
    "    if rem == digit:\n",
    "        count+=1\n",
    "    n = n // 10\n",
    "print(\"{} occured {} times in {}\".format(digit,count,num))\n"
   ]
  },
  {
   "cell_type": "code",
   "execution_count": 13,
   "id": "f71c3e31",
   "metadata": {},
   "outputs": [
    {
     "name": "stdout",
     "output_type": "stream",
     "text": [
      "397\n",
      "389\n",
      "383\n",
      "379\n",
      "373\n",
      "367\n",
      "359\n",
      "353\n",
      "349\n",
      "347\n",
      "337\n",
      "331\n",
      "317\n",
      "313\n",
      "311\n",
      "307\n"
     ]
    }
   ],
   "source": [
    "#11.Print prime no. between 400 to 300\n",
    "a=400\n",
    "b=300\n",
    "for i in range(a,b,-1):\n",
    "    if i>1:\n",
    "        for j in range(2,i):\n",
    "            if (i%j)==0:\n",
    "                break\n",
    "        else:\n",
    "            print(i)"
   ]
  },
  {
   "cell_type": "code",
   "execution_count": 5,
   "id": "08e95ed7",
   "metadata": {},
   "outputs": [
    {
     "name": "stdout",
     "output_type": "stream",
     "text": [
      "Enter a Number :5\n",
      "Table = 5\n",
      "5\n",
      "10\n",
      "15\n",
      "20\n",
      "25\n",
      "30\n",
      "35\n",
      "40\n",
      "45\n",
      "50\n"
     ]
    }
   ],
   "source": [
    "#12.Print table of given no.\n",
    "num=int(input('Enter a Number :'))\n",
    "print('Table =',num)\n",
    "for i in range(1,11):\n",
    "    print(num*i)"
   ]
  },
  {
   "cell_type": "code",
   "execution_count": 6,
   "id": "6bce27ee",
   "metadata": {},
   "outputs": [
    {
     "name": "stdout",
     "output_type": "stream",
     "text": [
      "Square of  1 is 1\n",
      "Square of  2 is 4\n",
      "Square of  3 is 9\n",
      "Square of  4 is 16\n",
      "Square of  5 is 25\n",
      "Square of  6 is 36\n",
      "Square of  7 is 49\n",
      "Square of  8 is 64\n",
      "Square of  9 is 81\n",
      "Square of  10 is 100\n",
      "Square of  11 is 121\n",
      "Square of  12 is 144\n",
      "Square of  13 is 169\n",
      "Square of  14 is 196\n",
      "Square of  15 is 225\n",
      "Square of  16 is 256\n",
      "Square of  17 is 289\n",
      "Square of  18 is 324\n",
      "Square of  19 is 361\n",
      "Square of  20 is 400\n"
     ]
    }
   ],
   "source": [
    "#13.Print squares from 1 to 20\n",
    "for i in range(1,20+1):\n",
    "    if i<=20:\n",
    "        sq=i**2\n",
    "    print('Square of ',i,'is',sq)   "
   ]
  },
  {
   "cell_type": "code",
   "execution_count": 7,
   "id": "facd8a7c",
   "metadata": {},
   "outputs": [
    {
     "name": "stdout",
     "output_type": "stream",
     "text": [
      "Enter Base value :4\n",
      "Enter Index value :2\n",
      "Power of 4 is 16\n"
     ]
    }
   ],
   "source": [
    "#14.Accept base and index & calculate power\n",
    "base=int(input('Enter Base value :'))\n",
    "index=int(input('Enter Index value :'))\n",
    "power=base**index\n",
    "print('Power of',base,'is',power)"
   ]
  },
  {
   "cell_type": "code",
   "execution_count": 8,
   "id": "5237a015",
   "metadata": {},
   "outputs": [
    {
     "name": "stdout",
     "output_type": "stream",
     "text": [
      "Enter number :5\n",
      "Factorial =  120\n"
     ]
    }
   ],
   "source": [
    "#15.Find factorial of given no.\n",
    "num=int(input('Enter number :'))\n",
    "fact=1\n",
    "for i in range(1,num+1):\n",
    "    fact=fact*i\n",
    "print('Factorial = ',fact)"
   ]
  },
  {
   "cell_type": "code",
   "execution_count": 9,
   "id": "9e96a0d1",
   "metadata": {},
   "outputs": [
    {
     "name": "stdout",
     "output_type": "stream",
     "text": [
      "Enter number :5\n",
      "Factorial =  120\n"
     ]
    }
   ],
   "source": [
    "#Factorial of no. using while loop\n",
    "num=int(input('Enter number :'))\n",
    "fact=1\n",
    "count=1\n",
    "while count<num+1:\n",
    "    fact=fact*count\n",
    "    count+=1\n",
    "print('Factorial = ',fact)    "
   ]
  },
  {
   "cell_type": "code",
   "execution_count": null,
   "id": "3f1c873e",
   "metadata": {},
   "outputs": [],
   "source": [
    "#16.Krishnamurthi or Not\n",
    "num=int(input('Enter a number : '))\n",
    "temp=num\n",
    "sum=0\n",
    "while num>0:\n",
    "    r=num%10\n",
    "    fact=1\n",
    "    for i in range(1,num+1):\n",
    "        fact=fact*i\n",
    "    sum=sum+fact\n",
    "    num//=10\n",
    "if(temp==sum):\n",
    "    print('Number is krishnamurthy ')\n",
    "else:\n",
    "    print('Number is not krishnamurthy ')"
   ]
  },
  {
   "cell_type": "code",
   "execution_count": 14,
   "id": "9be76a72",
   "metadata": {},
   "outputs": [
    {
     "name": "stdout",
     "output_type": "stream",
     "text": [
      "Enter number :1234\n",
      "Not Palimdrome\n"
     ]
    }
   ],
   "source": [
    "#17.Palimdrome or Not\n",
    "num=int(input('Enter number :'))\n",
    "temp=num\n",
    "rev=0\n",
    "while num>0:\n",
    "    dig=num%10\n",
    "    rev=rev*10+dig\n",
    "    num=num//10\n",
    "if (temp==rev):\n",
    "    print('Palimdrome')\n",
    "else:\n",
    "    print('Not Palimdrome')"
   ]
  },
  {
   "cell_type": "code",
   "execution_count": null,
   "id": "f91856f0",
   "metadata": {},
   "outputs": [],
   "source": [
    "#18.Number is automorphic or not\n",
    "num=int(input('Enter number : '))\n",
    "sq=num*num\n",
    "print('Square of',num,'is',sq)\n",
    "if(num%10!=sq%10):\n",
    "    print(num,'is not Automorphic')\n",
    "    num=10\n",
    "    sq=10\n",
    "else:\n",
    "    print(num,'is Automorphic')"
   ]
  },
  {
   "cell_type": "code",
   "execution_count": null,
   "id": "274c51af",
   "metadata": {},
   "outputs": [],
   "source": [
    "#19.Harshad/Niven number or not\n",
    "num=int(input('Enter number : '))\n",
    "sum=0\n",
    "temp=num\n",
    "while temp>0:\n",
    "    sum=sum+temp%10\n",
    "    temp=temp//10\n",
    "if num%sum==0:\n",
    "    print('Number is Harshad/Niven')\n",
    "else:\n",
    "    print('Number is not Harshad/Niven')"
   ]
  },
  {
   "cell_type": "code",
   "execution_count": null,
   "id": "30c94ebb",
   "metadata": {},
   "outputs": [],
   "source": [
    "#20.100 to 500 palimdrome numbers\n",
    "num=500\n",
    "for i in range(100,num+1):\n",
    "    temp=num\n",
    "    rev=0\n",
    "    while temp>0:\n",
    "        dig=temp%10\n",
    "        rev=rev*10+dig\n",
    "        temp=temp//10\n",
    "    if (num==rev):\n",
    "        print('Palimdrome numbers :')"
   ]
  }
 ],
 "metadata": {
  "kernelspec": {
   "display_name": "Python 3 (ipykernel)",
   "language": "python",
   "name": "python3"
  },
  "language_info": {
   "codemirror_mode": {
    "name": "ipython",
    "version": 3
   },
   "file_extension": ".py",
   "mimetype": "text/x-python",
   "name": "python",
   "nbconvert_exporter": "python",
   "pygments_lexer": "ipython3",
   "version": "3.9.13"
  }
 },
 "nbformat": 4,
 "nbformat_minor": 5
}
