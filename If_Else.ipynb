{
 "cells": [
  {
   "cell_type": "code",
   "execution_count": null,
   "id": "10676cc8",
   "metadata": {},
   "outputs": [],
   "source": [
    "s=input('Enter string :')\n",
    "if s==s[::-1]:\n",
    "    print('Palimdrone')\n",
    "else:\n",
    "    print('Not Palimdrome')"
   ]
  },
  {
   "cell_type": "code",
   "execution_count": null,
   "id": "4a028c76",
   "metadata": {},
   "outputs": [],
   "source": [
    "st=input('Enter a String ')\n",
    "c=0\n",
    "for i in st:\n",
    "    if i in 'aeiou':\n",
    "        c=c+1\n",
    "print('No of Vowels :',c)"
   ]
  },
  {
   "cell_type": "code",
   "execution_count": null,
   "id": "6d5ccce9",
   "metadata": {},
   "outputs": [],
   "source": [
    "s=['pythonprogramming']\n",
    "s[0:5]"
   ]
  },
  {
   "cell_type": "code",
   "execution_count": null,
   "id": "1b3e2e30",
   "metadata": {},
   "outputs": [],
   "source": [
    "s[2:6]"
   ]
  },
  {
   "cell_type": "code",
   "execution_count": null,
   "id": "01c08f35",
   "metadata": {},
   "outputs": [],
   "source": [
    "s='pythonprogram'\n",
    "s[0:3]"
   ]
  },
  {
   "cell_type": "code",
   "execution_count": null,
   "id": "5c7b9d0d",
   "metadata": {},
   "outputs": [],
   "source": [
    "s.strip()"
   ]
  },
  {
   "cell_type": "code",
   "execution_count": null,
   "id": "c78cfde8",
   "metadata": {},
   "outputs": [],
   "source": [
    "\"                    hb,gbsgb,dg\".strip()"
   ]
  },
  {
   "cell_type": "code",
   "execution_count": null,
   "id": "039dff35",
   "metadata": {},
   "outputs": [],
   "source": [
    "lst='sgsydhh'\n",
    "lst=s.split()\n",
    "print(lst)"
   ]
  },
  {
   "cell_type": "code",
   "execution_count": null,
   "id": "da9704d1",
   "metadata": {},
   "outputs": [],
   "source": [
    "s='programpython'\n",
    "st=s.replace('python','java')\n",
    "print(st)"
   ]
  },
  {
   "cell_type": "code",
   "execution_count": null,
   "id": "b7e15a0e",
   "metadata": {},
   "outputs": [],
   "source": [
    "stri='pythoncode'\n",
    "stri=s.replace('code','program')\n",
    "print(stri)"
   ]
  },
  {
   "cell_type": "code",
   "execution_count": null,
   "id": "bdffa441",
   "metadata": {},
   "outputs": [],
   "source": [
    "s1=input('Enter string 1 :')\n",
    "s2=input('Enter string 2 :')\n",
    "\n",
    "if sorted(s1)==sorted(s2):\n",
    "    print('Anagram')\n",
    "else:\n",
    "    print('Not Anagram')\n",
    "    \n",
    "    "
   ]
  },
  {
   "cell_type": "code",
   "execution_count": null,
   "id": "05e2f8a9",
   "metadata": {},
   "outputs": [],
   "source": [
    "s='Python is fun'\n",
    "s1=s[::-1]\n",
    "print('-->',s1)"
   ]
  },
  {
   "cell_type": "code",
   "execution_count": null,
   "id": "5ebf15e6",
   "metadata": {},
   "outputs": [],
   "source": [
    "s='python programming code python program python'\n",
    "s1=s.count('python')\n",
    "print(s1)"
   ]
  },
  {
   "cell_type": "code",
   "execution_count": null,
   "id": "ae7e4885",
   "metadata": {},
   "outputs": [],
   "source": [
    "s='python program code'\n",
    "s1=s.split()\n",
    "print(s1)"
   ]
  },
  {
   "cell_type": "code",
   "execution_count": null,
   "id": "e2007bb7",
   "metadata": {},
   "outputs": [],
   "source": [
    "s='ABCDE'\n",
    "for i in range"
   ]
  },
  {
   "cell_type": "code",
   "execution_count": null,
   "id": "dfa92fdb",
   "metadata": {},
   "outputs": [],
   "source": [
    "s='python programming code python program python'\n",
    "s1=s.count(s)\n",
    "print(s1)"
   ]
  },
  {
   "cell_type": "code",
   "execution_count": 2,
   "id": "157dd692",
   "metadata": {},
   "outputs": [],
   "source": [
    "s='skkdsf'\n",
    "sw=s.swapcase()\n"
   ]
  },
  {
   "cell_type": "code",
   "execution_count": 3,
   "id": "6e8a7cc5",
   "metadata": {},
   "outputs": [
    {
     "data": {
      "text/plain": [
       "'SKKDSF'"
      ]
     },
     "execution_count": 3,
     "metadata": {},
     "output_type": "execute_result"
    }
   ],
   "source": [
    "sw"
   ]
  },
  {
   "cell_type": "code",
   "execution_count": 4,
   "id": "fd56d3f3",
   "metadata": {},
   "outputs": [],
   "source": [
    "sw=s.title()"
   ]
  },
  {
   "cell_type": "code",
   "execution_count": 5,
   "id": "f668a935",
   "metadata": {},
   "outputs": [
    {
     "data": {
      "text/plain": [
       "'Skkdsf'"
      ]
     },
     "execution_count": 5,
     "metadata": {},
     "output_type": "execute_result"
    }
   ],
   "source": [
    "sw"
   ]
  },
  {
   "cell_type": "code",
   "execution_count": null,
   "id": "82fe481e",
   "metadata": {},
   "outputs": [],
   "source": []
  }
 ],
 "metadata": {
  "kernelspec": {
   "display_name": "Python 3 (ipykernel)",
   "language": "python",
   "name": "python3"
  },
  "language_info": {
   "codemirror_mode": {
    "name": "ipython",
    "version": 3
   },
   "file_extension": ".py",
   "mimetype": "text/x-python",
   "name": "python",
   "nbconvert_exporter": "python",
   "pygments_lexer": "ipython3",
   "version": "3.9.13"
  }
 },
 "nbformat": 4,
 "nbformat_minor": 5
}
