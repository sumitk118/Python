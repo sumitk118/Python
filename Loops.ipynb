{
 "cells": [
  {
   "cell_type": "code",
   "execution_count": null,
   "id": "72d2e3ec",
   "metadata": {},
   "outputs": [],
   "source": [
    "for i in range(221,229):\n",
    "    if i%2==0:\n",
    "        print('Even',i)\n",
    "    \n",
    "        \n"
   ]
  },
  {
   "cell_type": "code",
   "execution_count": null,
   "id": "12d56cab",
   "metadata": {},
   "outputs": [],
   "source": [
    "for i in range(521,229,-1):\n",
    "    if i%2==1:\n",
    "        print('Odd -',i)"
   ]
  },
  {
   "cell_type": "code",
   "execution_count": 1,
   "id": "48fdccd5",
   "metadata": {},
   "outputs": [],
   "source": [
    "for i in range(1,20):\n",
    "    if(i==18):\n",
    "        break\n",
    "        print(i)"
   ]
  },
  {
   "cell_type": "code",
   "execution_count": null,
   "id": "6a5ab627",
   "metadata": {},
   "outputs": [],
   "source": [
    "num1=int(input('Enter First Number :'))\n",
    "num2=int(input('Enter Second Number :'))\n",
    "if num1>num2:\n",
    "    lcm=num1\n",
    "else:\n",
    "    lcm=num2\n",
    "while True:\n",
    "    if lcm%num1==0 and lcm%num2==0:\n",
    "        break\n",
    "    else:\n",
    "        lcm=lcm+1\n",
    "print('LCM = ',lcm)        \n"
   ]
  },
  {
   "cell_type": "code",
   "execution_count": null,
   "id": "08e95ed7",
   "metadata": {},
   "outputs": [],
   "source": [
    "num=int(input('Enter a Number :'))\n",
    "print('Table =',num)\n",
    "for i in range(1,11):\n",
    "    print(num*i)"
   ]
  },
  {
   "cell_type": "code",
   "execution_count": null,
   "id": "6bce27ee",
   "metadata": {},
   "outputs": [],
   "source": [
    "for i in range(1,20+1):\n",
    "    if i<=20:\n",
    "        sq=i**2\n",
    "    print('Square of ',i,'is',sq)   "
   ]
  },
  {
   "cell_type": "code",
   "execution_count": null,
   "id": "facd8a7c",
   "metadata": {},
   "outputs": [],
   "source": [
    "base=int(input('Enter Base value :'))\n",
    "index=int(input('Enter Index value :'))\n",
    "power=base**index\n",
    "print('Power of',base,'is',power)"
   ]
  },
  {
   "cell_type": "code",
   "execution_count": null,
   "id": "5237a015",
   "metadata": {},
   "outputs": [],
   "source": [
    "num=int(input('Enter number :'))\n",
    "fact=1\n",
    "for i in range(1,num+1):\n",
    "    fact=fact*i\n",
    "print('Factorial = ',fact)"
   ]
  },
  {
   "cell_type": "code",
   "execution_count": 4,
   "id": "9e96a0d1",
   "metadata": {},
   "outputs": [
    {
     "name": "stdout",
     "output_type": "stream",
     "text": [
      "Enter number :6\n",
      "Factorial =  720\n"
     ]
    }
   ],
   "source": [
    "num=int(input('Enter number :'))\n",
    "fact=1\n",
    "count=1\n",
    "while count<num+1:\n",
    "    fact=fact*count\n",
    "    count+=1\n",
    "print('Factorial = ',fact)    "
   ]
  },
  {
   "cell_type": "code",
   "execution_count": null,
   "id": "0a40b4c0",
   "metadata": {},
   "outputs": [],
   "source": []
  }
 ],
 "metadata": {
  "kernelspec": {
   "display_name": "Python 3 (ipykernel)",
   "language": "python",
   "name": "python3"
  },
  "language_info": {
   "codemirror_mode": {
    "name": "ipython",
    "version": 3
   },
   "file_extension": ".py",
   "mimetype": "text/x-python",
   "name": "python",
   "nbconvert_exporter": "python",
   "pygments_lexer": "ipython3",
   "version": "3.9.13"
  }
 },
 "nbformat": 4,
 "nbformat_minor": 5
}
