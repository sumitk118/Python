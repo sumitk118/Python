{
 "cells": [
  {
   "cell_type": "code",
   "execution_count": 2,
   "id": "7dc2a8e6",
   "metadata": {},
   "outputs": [
    {
     "name": "stdout",
     "output_type": "stream",
     "text": [
      "Enter no. 1st number : 4\n",
      "Enter no. 2nd number : 2\n",
      "Add 6\n",
      "SUB 2\n",
      "MUL 8\n",
      "Div 2.0\n",
      "MOD 0\n",
      "DIV 2\n"
     ]
    }
   ],
   "source": [
    "# Arithmetic Operation\n",
    "a=int(input('Enter no. 1st number : '))\n",
    "b=int(input('Enter no. 2nd number : '))\n",
    "add=a+b\n",
    "sub=a-b\n",
    "mul=a*b\n",
    "div=a/b\n",
    "mod=a%b\n",
    "di=a//b\n",
    "print('Add',add)\n",
    "print('SUB',sub)\n",
    "print('MUL',mul)\n",
    "print('Div',div)\n",
    "print('MOD',mod)\n",
    "print('DIV',di)"
   ]
  },
  {
   "cell_type": "code",
   "execution_count": 5,
   "id": "f15d25a6",
   "metadata": {},
   "outputs": [
    {
     "name": "stdout",
     "output_type": "stream",
     "text": [
      "Enter num1 :2\n",
      "Enter num2 :2\n",
      "2 Greatest\n"
     ]
    }
   ],
   "source": [
    "#Greatest of 2 Number\n",
    "num1=int(input('Enter num1 :'))\n",
    "num2=int(input('Enter num2 :'))\n",
    "if num1>num2:\n",
    "    print(num1,'Greatest')\n",
    "else:\n",
    "    print(num2,'Greatest')"
   ]
  },
  {
   "cell_type": "code",
   "execution_count": 15,
   "id": "3e803359",
   "metadata": {},
   "outputs": [
    {
     "name": "stdout",
     "output_type": "stream",
     "text": [
      "Enter number :0\n",
      "number is 0\n"
     ]
    }
   ],
   "source": [
    "#Positive or Negative\n",
    "num=int(input('Enter number :'))\n",
    "if num>0:\n",
    "    print('Positive')\n",
    "elif num==0:\n",
    "    print('number is 0')\n",
    "else:\n",
    "    print('Negative')   "
   ]
  },
  {
   "cell_type": "code",
   "execution_count": 18,
   "id": "25369615",
   "metadata": {},
   "outputs": [
    {
     "name": "stdout",
     "output_type": "stream",
     "text": [
      "Enter number a:16\n",
      "Enter number b:4\n",
      "Power 65536\n"
     ]
    }
   ],
   "source": [
    "#calculate power \n",
    "a=int(input('Enter number a:'))\n",
    "b=int(input('Enter number b:'))\n",
    "r=a**b\n",
    "print('Power',r)"
   ]
  },
  {
   "cell_type": "code",
   "execution_count": null,
   "id": "29c19fb2",
   "metadata": {},
   "outputs": [],
   "source": [
    "a=int(input('Enter 4 digit number:'))\n",
    "a=\n"
   ]
  },
  {
   "cell_type": "code",
   "execution_count": null,
   "id": "6e1c9664",
   "metadata": {},
   "outputs": [],
   "source": [
    "#Swaping two numbers\n",
    "a=8\n",
    "b=54\n",
    "swap=a,b=b,a\n",
    "print('swap',swap)"
   ]
  },
  {
   "cell_type": "code",
   "execution_count": null,
   "id": "a4a5f605",
   "metadata": {},
   "outputs": [],
   "source": [
    "#Sum of 4 digit\n",
    "a=int(input('Input First digit :'))\n",
    "b=int(input('Input Second digit :'))\n",
    "c=int(input('Input Third digit :'))\n",
    "d=int(input('Input Fourth digit :'))\n",
    "sum1=a+b\n",
    "sum2=c+d\n",
    "sum3=sum1+sum2\n",
    "print('Sum =',sum3)\n"
   ]
  },
  {
   "cell_type": "code",
   "execution_count": null,
   "id": "851e9249",
   "metadata": {},
   "outputs": [],
   "source": [
    "#Number is divisible by 5 or 11\n",
    "num=int(input('Enter number : '))\n",
    "if num%5==0:\n",
    "    print('Divisible by 5')\n",
    "    if num%11==0:\n",
    "        print('Divisible by 11')\n",
    "else:\n",
    "    print('Not divisible by 5 & 11')\n",
    "    "
   ]
  },
  {
   "cell_type": "code",
   "execution_count": null,
   "id": "0313b8d5",
   "metadata": {},
   "outputs": [],
   "source": [
    "#Print Even numbers from 121 to 229\n",
    "for i in range(121,229):\n",
    "    if i%2==0:\n",
    "        print('Even Numbers are :',i)\n"
   ]
  },
  {
   "cell_type": "code",
   "execution_count": null,
   "id": "4a5b20a8",
   "metadata": {},
   "outputs": [],
   "source": [
    "#Print odd numbers from 521 to 229 Reverse order\n",
    "i=1\n",
    "for i in range(521,229,-1):\n",
    "    if i%2==1:\n",
    "        print('Odd Numbers are :',i)\n",
    "        "
   ]
  },
  {
   "cell_type": "code",
   "execution_count": null,
   "id": "b2b70696",
   "metadata": {},
   "outputs": [],
   "source": [
    "#Use of break \n",
    "for i in range(10,20):\n",
    "    print(i)\n",
    "    if (i>=50):\n",
    "        break"
   ]
  },
  {
   "cell_type": "code",
   "execution_count": null,
   "id": "f2b90767",
   "metadata": {},
   "outputs": [],
   "source": [
    "i"
   ]
  },
  {
   "cell_type": "code",
   "execution_count": 1,
   "id": "93e45de3",
   "metadata": {},
   "outputs": [
    {
     "name": "stdout",
     "output_type": "stream",
     "text": [
      "a\n",
      "b\n",
      "c\n",
      "d\n",
      "e\n",
      "f\n",
      "g\n",
      "h\n",
      "i\n",
      "j\n",
      "k\n",
      "l\n",
      "m\n",
      "n\n",
      "o\n",
      "p\n",
      "q\n",
      "r\n",
      "s\n",
      "t\n",
      "u\n",
      "v\n",
      "w\n",
      "x\n",
      "y\n",
      "z\n"
     ]
    }
   ],
   "source": [
    "#Print alphabets in lower case\n",
    "for i in range(97,123):\n",
    "    print(chr(i))"
   ]
  },
  {
   "cell_type": "code",
   "execution_count": null,
   "id": "2438f71a",
   "metadata": {},
   "outputs": [],
   "source": [
    "#Print addition of even numbers from 1 to n\n",
    "n=int(input('Enter number '))\n",
    "res=0\n",
    "for i in range(1,n):\n",
    "    if i%2==0:\n",
    "        res=res+i\n",
    "print('Addition of even numbers :',res)        "
   ]
  },
  {
   "cell_type": "code",
   "execution_count": null,
   "id": "16a368ef",
   "metadata": {},
   "outputs": [],
   "source": [
    "#Print addition of odd numbers from 1 to n\n",
    "n=int(input('Enter number : '))\n",
    "i=1\n",
    "res=0\n",
    "for i in range(1,n):\n",
    "    if i%2==1:\n",
    "        res=res+i\n",
    "print('Addition of odd numbers :',res)        "
   ]
  },
  {
   "cell_type": "code",
   "execution_count": null,
   "id": "e5e7a30c",
   "metadata": {},
   "outputs": [],
   "source": [
    "#Count number of digits\n",
    "n=456\n",
    "count=0\n",
    "while n<0:\n",
    "    n=n//10\n",
    "    count= count+1\n",
    "print(\"Number of Digits : \",count)"
   ]
  },
  {
   "cell_type": "code",
   "execution_count": null,
   "id": "3aa32e73",
   "metadata": {},
   "outputs": [],
   "source": [
    "#Calculate product of digits\n",
    "n=int(input())\n",
    "mult=1\n",
    "while n>0:\n",
    "    digit =n%10\n",
    "    mult=mult*digit\n",
    "    n=n//10\n",
    "print('Product of digits :',mult)    \n"
   ]
  },
  {
   "cell_type": "code",
   "execution_count": null,
   "id": "70a51d13",
   "metadata": {},
   "outputs": [],
   "source": [
    "num=int(input('Enter integer number : '))\n",
    "print('Digit\\tFrequency')\n",
    "for i in range(0,10):\n",
    "    count=0\n",
    "    temp=num\n",
    "    while(temp>0):\n",
    "        digit=temp%10\n",
    "        if digit==i:\n",
    "            count=count+1\n",
    "        temp=temp//10\n",
    "    if count>0:\n",
    "        print(i,\"\\t\",count)\n",
    "\n"
   ]
  },
  {
   "cell_type": "code",
   "execution_count": 2,
   "id": "6616cb74",
   "metadata": {},
   "outputs": [
    {
     "name": "stdout",
     "output_type": "stream",
     "text": [
      "397\n",
      "389\n",
      "383\n",
      "379\n",
      "373\n",
      "367\n",
      "359\n",
      "353\n",
      "349\n",
      "347\n",
      "337\n",
      "331\n",
      "317\n",
      "313\n",
      "311\n",
      "307\n"
     ]
    }
   ],
   "source": [
    "#\n",
    "a=400\n",
    "b=300\n",
    "for i in range(a,b,-1):\n",
    "    if i>1:\n",
    "        for j in range(2,i):\n",
    "            if (i%j)==0:\n",
    "                break\n",
    "        else:\n",
    "            print(i)\n",
    "        "
   ]
  },
  {
   "cell_type": "code",
   "execution_count": null,
   "id": "96c3be23",
   "metadata": {},
   "outputs": [],
   "source": [
    "#Print Table of given number\n",
    "num=int(input('Enter number : '))\n",
    "print('Table of :',num)\n",
    "for i in range(1,11):\n",
    "    print(num*i) "
   ]
  },
  {
   "cell_type": "code",
   "execution_count": null,
   "id": "af209208",
   "metadata": {},
   "outputs": [],
   "source": [
    "#Print square of numbers from 1 to 21\n",
    "for i in range(1,21):\n",
    "    print('Square of',i,'is',i*i)"
   ]
  },
  {
   "cell_type": "code",
   "execution_count": null,
   "id": "080b431f",
   "metadata": {},
   "outputs": [],
   "source": [
    "#Calculate power using base and index\n",
    "base=int(input('Enter Base :'))\n",
    "index=int(input('Enter Index :'))\n",
    "res=1\n",
    "while index != 0:\n",
    "    res *= base\n",
    "    index-=1\n",
    "print('Power = ',res)"
   ]
  },
  {
   "cell_type": "code",
   "execution_count": null,
   "id": "2298344e",
   "metadata": {},
   "outputs": [],
   "source": [
    "#Calculate power using base and index\n",
    "base=int(input('Enter base'))\n",
    "index=int(input('Enter index'))\n",
    "print('Power=',base**index)"
   ]
  },
  {
   "cell_type": "code",
   "execution_count": null,
   "id": "8c9e8ae8",
   "metadata": {},
   "outputs": [],
   "source": [
    "#Find factorial of number\n",
    "num=int(input(\"enter number :\"))\n",
    "factorial=1\n",
    "if n>=1:\n",
    "    for i in range(1,num+1):\n",
    "        factorial=factorial*i\n",
    "print(factorial)    "
   ]
  },
  {
   "cell_type": "code",
   "execution_count": null,
   "id": "46885d4e",
   "metadata": {},
   "outputs": [],
   "source": [
    "#Palimdrome or Not\n",
    "num=int(input('Enter number :'))\n",
    "temp=num\n",
    "rev=0\n",
    "while num>0:\n",
    "    dig=num%10\n",
    "    rev=rev*10+dig\n",
    "    num=num//10\n",
    "if (temp==rev):\n",
    "    print('Palimdrome')\n",
    "else:\n",
    "    print('Not Palimdrome')"
   ]
  },
  {
   "cell_type": "code",
   "execution_count": null,
   "id": "87975aec",
   "metadata": {},
   "outputs": [
    {
     "name": "stdout",
     "output_type": "stream",
     "text": [
      "Enter number : 25\n",
      "Square =  625\n"
     ]
    }
   ],
   "source": [
    "\n",
    "n=int(input(\"Enter number : \"))\n",
    "sq=n**2\n",
    "print('Square = ',sq)\n",
    "rev=0\n",
    "while n>n-2:\n",
    "    dig=n%10\n",
    "    rev=rev*10+dig\n",
    "    n=n//10\n",
    "if (sq==rev):\n",
    "    print('Autpmorphic')\n",
    "else:\n",
    "    print('Not Automorphic')"
   ]
  },
  {
   "cell_type": "code",
   "execution_count": 10,
   "id": "7d1289c6",
   "metadata": {},
   "outputs": [
    {
     "name": "stdout",
     "output_type": "stream",
     "text": [
      "Enter 1st number1\n",
      "Enter 2nd number3\n",
      "num2 is greatest\n"
     ]
    }
   ],
   "source": [
    "num1=int(input('Enter 1st number'))\n",
    "num2=int(input('Enter 2nd number'))\n",
    "if num1>num2:\n",
    "    print('num1 is greatest')\n",
    "elif num==num1:\n",
    "    print('both are same')\n",
    "else:\n",
    "    print('num2 is greatest')"
   ]
  },
  {
   "cell_type": "code",
   "execution_count": null,
   "id": "d4cad670",
   "metadata": {},
   "outputs": [],
   "source": []
  }
 ],
 "metadata": {
  "kernelspec": {
   "display_name": "Python 3 (ipykernel)",
   "language": "python",
   "name": "python3"
  },
  "language_info": {
   "codemirror_mode": {
    "name": "ipython",
    "version": 3
   },
   "file_extension": ".py",
   "mimetype": "text/x-python",
   "name": "python",
   "nbconvert_exporter": "python",
   "pygments_lexer": "ipython3",
   "version": "3.9.13"
  }
 },
 "nbformat": 4,
 "nbformat_minor": 5
}
