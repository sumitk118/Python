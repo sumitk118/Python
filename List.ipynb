{
 "cells": [
  {
   "cell_type": "code",
   "execution_count": null,
   "id": "549b061d",
   "metadata": {},
   "outputs": [],
   "source": [
    "lst=['a','b','c','d','e','c','d','e']\n",
    "lst.sort()\n"
   ]
  },
  {
   "cell_type": "code",
   "execution_count": null,
   "id": "8c53ed31",
   "metadata": {},
   "outputs": [],
   "source": [
    "lst"
   ]
  },
  {
   "cell_type": "code",
   "execution_count": null,
   "id": "2e278bc8",
   "metadata": {},
   "outputs": [],
   "source": [
    "lst1=[1,2,3,4,5,6,7,8]\n",
    "max(lst1)\n",
    "        \n",
    "    "
   ]
  },
  {
   "cell_type": "code",
   "execution_count": null,
   "id": "04799cfd",
   "metadata": {},
   "outputs": [],
   "source": [
    "str=['pythonp', 'programp']\n",
    "len(str)"
   ]
  },
  {
   "cell_type": "code",
   "execution_count": null,
   "id": "73baaa0c",
   "metadata": {},
   "outputs": [],
   "source": [
    "l1=[1,2,3,4,5,5,4,3]\n",
    "del l1[4]"
   ]
  },
  {
   "cell_type": "code",
   "execution_count": null,
   "id": "1b2d266c",
   "metadata": {},
   "outputs": [],
   "source": [
    "l1"
   ]
  },
  {
   "cell_type": "code",
   "execution_count": null,
   "id": "e6b022d2",
   "metadata": {},
   "outputs": [],
   "source": [
    "del l1[6]"
   ]
  },
  {
   "cell_type": "code",
   "execution_count": null,
   "id": "ecec7080",
   "metadata": {},
   "outputs": [],
   "source": [
    "l2=['A','B','C',1,2,4,5,1,2]\n",
    "l2.remove(2)"
   ]
  },
  {
   "cell_type": "code",
   "execution_count": null,
   "id": "af48c6d7",
   "metadata": {},
   "outputs": [],
   "source": [
    "l2"
   ]
  },
  {
   "cell_type": "code",
   "execution_count": null,
   "id": "e2899498",
   "metadata": {},
   "outputs": [],
   "source": [
    "l2.remove(1)"
   ]
  },
  {
   "cell_type": "code",
   "execution_count": null,
   "id": "413bb9ea",
   "metadata": {},
   "outputs": [],
   "source": [
    "l2"
   ]
  },
  {
   "cell_type": "code",
   "execution_count": null,
   "id": "cbf1450f",
   "metadata": {},
   "outputs": [],
   "source": [
    "l3=[1,4,2,6,3,4,2,5,6,7,]\n",
    "print('List is : ',l3)\n",
    "result =[]\n",
    "for i in l3:\n",
    "    if i not in result:\n",
    "        result.append(i)\n",
    "print('List after removal duplicates :',result)      "
   ]
  },
  {
   "cell_type": "code",
   "execution_count": null,
   "id": "128dce5b",
   "metadata": {},
   "outputs": [],
   "source": [
    "lst=[10,20,50,10,20,30,40]\n",
    "print('Original list :',lst)\n",
    "result=[]\n",
    "for i in lst:\n",
    "    if i not in result:\n",
    "        result.append(i)\n",
    "print('List after removal : ',result)        \n",
    "        \n",
    "    "
   ]
  },
  {
   "cell_type": "code",
   "execution_count": 2,
   "id": "34fa288f",
   "metadata": {},
   "outputs": [
    {
     "name": "stdout",
     "output_type": "stream",
     "text": [
      "Enter String :python coding assignment list\n",
      "Enter Value of n :5\n",
      "List of words : ['python', 'coding', 'assignment']\n"
     ]
    }
   ],
   "source": [
    "st=input('Enter String :')\n",
    "a=st.split(\" \")\n",
    "b=[]\n",
    "n=int(input('Enter Value of n :'))\n",
    "for i in a:\n",
    "    if(len(i)>n):\n",
    "        b.append(i)\n",
    "print('List of words :',b)        "
   ]
  },
  {
   "cell_type": "code",
   "execution_count": null,
   "id": "c2958afa",
   "metadata": {},
   "outputs": [],
   "source": []
  }
 ],
 "metadata": {
  "kernelspec": {
   "display_name": "Python 3 (ipykernel)",
   "language": "python",
   "name": "python3"
  },
  "language_info": {
   "codemirror_mode": {
    "name": "ipython",
    "version": 3
   },
   "file_extension": ".py",
   "mimetype": "text/x-python",
   "name": "python",
   "nbconvert_exporter": "python",
   "pygments_lexer": "ipython3",
   "version": "3.9.13"
  }
 },
 "nbformat": 4,
 "nbformat_minor": 5
}
