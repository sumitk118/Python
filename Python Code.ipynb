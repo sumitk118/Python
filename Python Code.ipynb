{
 "cells": [
  {
   "cell_type": "code",
   "execution_count": 18,
   "id": "ac36d8da",
   "metadata": {},
   "outputs": [
    {
     "name": "stdout",
     "output_type": "stream",
     "text": [
      "Animal Attributes are : Lion Wildanimal\n",
      "Animal Attributes are : Ghost Dog\n",
      "Animal Attributes are : Ghost Dog Husky\n"
     ]
    }
   ],
   "source": [
    "class Animal:\n",
    "    def __init__(self,name,atype):\n",
    "        self.name=name\n",
    "        self.atype=atype\n",
    "        \n",
    "    def print_attr(self):\n",
    "        print('Animal Attributes are :',self.name,self.atype)\n",
    "        \n",
    "class Dog(Animal):\n",
    "    def __init__(self,name,atype,breed):\n",
    "        super().__init__(name,atype)\n",
    "        self.breed=breed\n",
    "       \n",
    "    def print_attr(self):\n",
    "        super().print_attr()\n",
    "        print('Animal Attributes are :',self.name,self.atype,self.breed)\n",
    "        \n",
    "def main():\n",
    "    animal=Animal('Lion','Wildanimal')\n",
    "    dog=Dog('Ghost','Dog','Husky')   \n",
    "    animal.print_attr()\n",
    "    dog.print_attr()\n",
    "    \n",
    "if __name__=='__main__':\n",
    "    main()"
   ]
  },
  {
   "cell_type": "code",
   "execution_count": 35,
   "id": "74b266de",
   "metadata": {},
   "outputs": [
    {
     "name": "stdout",
     "output_type": "stream",
     "text": [
      "4\n",
      "6\n",
      "8\n",
      "10\n"
     ]
    }
   ],
   "source": [
    "#4,6,8,10\n",
    "list1=[1,2,3,4,5,6]\n",
    "list2=[]\n",
    "for i in range(0,len(list1)-2):\n",
    "    print((list1[i]+list1[i+2]))"
   ]
  },
  {
   "cell_type": "code",
   "execution_count": 2,
   "id": "b7b9065e",
   "metadata": {},
   "outputs": [],
   "source": [
    "def mk(x):\n",
    "    def mk1():\n",
    "        print('deocrated')\n",
    "        x()\n",
    "        return mk1\n",
    "    def mk2():\n",
    "        print('ordinary')\n",
    "        p=mk(mk2)\n",
    "        p()"
   ]
  },
  {
   "cell_type": "code",
   "execution_count": 4,
   "id": "9af73b51",
   "metadata": {},
   "outputs": [
    {
     "data": {
      "text/plain": [
       "[0, 4, 16, 36, 64]"
      ]
     },
     "execution_count": 4,
     "metadata": {},
     "output_type": "execute_result"
    }
   ],
   "source": [
    "list(map((lambda x:x**2),filter((lambda X:X%2==0),range(10))))"
   ]
  },
  {
   "cell_type": "code",
   "execution_count": null,
   "id": "9df6f83e",
   "metadata": {},
   "outputs": [],
   "source": [
    "x**2 for x in my_lst"
   ]
  },
  {
   "cell_type": "code",
   "execution_count": 5,
   "id": "56025961",
   "metadata": {},
   "outputs": [
    {
     "name": "stdout",
     "output_type": "stream",
     "text": [
      "[1, 2, 4, 7, 8, 11, 13, 14, 16, 17, 19, 22, 23, 26, 28, 29]\n"
     ]
    }
   ],
   "source": [
    "def sf(a):\n",
    "    return a%3!=0 and a%5!=0\n",
    "m=filter(sf,range(1,31))\n",
    "print(list(m))"
   ]
  },
  {
   "cell_type": "code",
   "execution_count": null,
   "id": "576dd77d",
   "metadata": {},
   "outputs": [],
   "source": [
    "@f\n",
    "def f1:\n",
    "    print('hello')\n",
    "    \n",
    "def f1:\n",
    "    print('hello')\n",
    "    \n",
    "f1=f(f1)"
   ]
  },
  {
   "cell_type": "code",
   "execution_count": 17,
   "id": "d606680a",
   "metadata": {},
   "outputs": [
    {
     "name": "stdout",
     "output_type": "stream",
     "text": [
      "[2, 4, 8, 16, 32]\n"
     ]
    }
   ],
   "source": [
    "l=[1,2,3,4,5]\n",
    "m=map(lambda x:2**x,l)\n",
    "print(list(m))"
   ]
  },
  {
   "cell_type": "code",
   "execution_count": 18,
   "id": "fd93e71c",
   "metadata": {},
   "outputs": [
    {
     "data": {
      "text/plain": [
       "586"
      ]
     },
     "execution_count": 18,
     "metadata": {},
     "output_type": "execute_result"
    }
   ],
   "source": [
    "mylist=[2,4,9,14,17]\n",
    "value=sum(x**2 for x in mylist)\n",
    "value"
   ]
  },
  {
   "cell_type": "code",
   "execution_count": 19,
   "id": "8e44aec7",
   "metadata": {},
   "outputs": [
    {
     "name": "stdout",
     "output_type": "stream",
     "text": [
      "[0, 1, 2, 3, 4, 5, 6, 7, 8, 9]\n"
     ]
    }
   ],
   "source": [
    "odd=lambda x:bool(x%2)\n",
    "num=[n for n in range(10)]\n",
    "print(num)\n",
    "n=list()\n",
    "for i in num:\n",
    "    if odd(i):\n",
    "        continue\n",
    "    else:\n",
    "        break"
   ]
  },
  {
   "cell_type": "code",
   "execution_count": 21,
   "id": "e66f20c6",
   "metadata": {},
   "outputs": [
    {
     "name": "stdout",
     "output_type": "stream",
     "text": [
      "[1, 9, 36, 100]\n",
      "<generator object <genexpr> at 0x0000018C2650AA50>\n"
     ]
    }
   ],
   "source": [
    "mylist=[1,3,6,10]\n",
    "list_=[x**2 for x in mylist]\n",
    "generator=(x**2 for x in mylist)\n",
    "print(list_)\n",
    "print(generator)"
   ]
  },
  {
   "cell_type": "code",
   "execution_count": 22,
   "id": "5b04efed",
   "metadata": {},
   "outputs": [
    {
     "name": "stdout",
     "output_type": "stream",
     "text": [
      "hello\n",
      "no\n"
     ]
    }
   ],
   "source": [
    "def f(x):\n",
    "    def f1(a,b):\n",
    "        print('hello')\n",
    "        if b==0:\n",
    "            print('no')\n",
    "            return\n",
    "        return f(a,b)\n",
    "    return f1\n",
    "@f\n",
    "def f(a,b):\n",
    "    return a%b\n",
    "f(4,0)"
   ]
  },
  {
   "cell_type": "code",
   "execution_count": 23,
   "id": "ae0ed82c",
   "metadata": {},
   "outputs": [
    {
     "name": "stdout",
     "output_type": "stream",
     "text": [
      "[False, True, True, False, False]\n"
     ]
    }
   ],
   "source": [
    "l=[1,-2,-3,4,5]\n",
    "def f1(x):\n",
    "    return x<-1\n",
    "m1=map(f1,l)\n",
    "print(list(m1))"
   ]
  },
  {
   "cell_type": "code",
   "execution_count": 24,
   "id": "c3059b92",
   "metadata": {},
   "outputs": [
    {
     "name": "stdout",
     "output_type": "stream",
     "text": [
      "24\n"
     ]
    }
   ],
   "source": [
    "import functools\n",
    "l=[1,2,3,4]\n",
    "print(functools.reduce(lambda x,y:x*y,l))"
   ]
  },
  {
   "cell_type": "code",
   "execution_count": 26,
   "id": "684ddfea",
   "metadata": {},
   "outputs": [
    {
     "name": "stdout",
     "output_type": "stream",
     "text": [
      "False True\n"
     ]
    }
   ],
   "source": [
    "f=lambda x:bool(x%2)\n",
    "print(f(20),f(21))"
   ]
  },
  {
   "cell_type": "code",
   "execution_count": 35,
   "id": "d8b28909",
   "metadata": {},
   "outputs": [
    {
     "name": "stdout",
     "output_type": "stream",
     "text": [
      "[]\n"
     ]
    }
   ],
   "source": [
    "l=[1,2,3,4,5]\n",
    "def f1(x):\n",
    "    return x<0\n",
    "m1=filter(f1,l)\n",
    "print(list(m1))"
   ]
  },
  {
   "cell_type": "code",
   "execution_count": 42,
   "id": "bcc7c0f4",
   "metadata": {},
   "outputs": [
    {
     "name": "stdout",
     "output_type": "stream",
     "text": [
      "['HELLO', 'MY', 'NAME', 'IS', 'JHON']\n",
      "['OLLEH', 'YM', 'EMAN', 'SI', 'NOHJ']\n",
      "OLLEH YM EMAN SI NOHJ\n",
      "OLLEH YM EMAN SI NOHJ\n"
     ]
    }
   ],
   "source": [
    "# 1.\n",
    "def Reverse(string):\n",
    "    \n",
    "    words=string.split()\n",
    "    print(words)\n",
    "    \n",
    "    reverse=[word[::-1] for word in words]\n",
    "    print(reverse)\n",
    "    \n",
    "    new_join=' '.join(reverse)\n",
    "    print(new_join)\n",
    "    return new_join\n",
    "    \n",
    "reve='HELLO MY NAME IS JHON'\n",
    "output=Reverse(reve)  \n",
    "print(output)"
   ]
  },
  {
   "cell_type": "code",
   "execution_count": 13,
   "id": "e5023f5f",
   "metadata": {},
   "outputs": [
    {
     "name": "stdout",
     "output_type": "stream",
     "text": [
      "NOHJ SI EMAN YM OLLEH\n"
     ]
    }
   ],
   "source": [
    "string='HELLO MY NAME IS JHON'\n",
    "print(string[::-1])"
   ]
  },
  {
   "cell_type": "code",
   "execution_count": 53,
   "id": "784e3054",
   "metadata": {},
   "outputs": [
    {
     "name": "stdout",
     "output_type": "stream",
     "text": [
      "65\n"
     ]
    }
   ],
   "source": [
    "# 2. Given an array of integers, write a function to find the second largest element in the array.\n",
    "#\tinput: [64,56,3,5,12,44,63,65]\n",
    "arr1=[64,56,3,5,12,44,63,65]\n",
    "largest=65\n",
    "second_large=64\n",
    "for number in numbers:\n",
    "    if number>"
   ]
  },
  {
   "cell_type": "code",
   "execution_count": null,
   "id": "5d583581",
   "metadata": {},
   "outputs": [],
   "source": [
    "#Que. 1\n",
    "class Animal:\n",
    "    print('This is animal')\n",
    "\n",
    "def main():\n",
    "    animal=Animal\n",
    "    \n",
    "if __name__=='__main__':\n",
    "    main()"
   ]
  },
  {
   "cell_type": "code",
   "execution_count": null,
   "id": "f9dcf920",
   "metadata": {},
   "outputs": [],
   "source": [
    "#Que. 2\n",
    "class Animal:\n",
    "    def __init__(self,sound,number_of_legs,is_omnivore):\n",
    "        self.sound=sound\n",
    "        self.number_of_legs=number_of_legs\n",
    "        self.is_omnivore=is_omnivore\n",
    "    \n",
    "    def print_animal(self):\n",
    "        print(self.sound, self.number_of_legs,self.is_omnivore)\n",
    "def main():\n",
    "    animal=Animal('Roar',4,'False')\n",
    "    animal.print_animal()\n",
    "if __name__=='__main__':\n",
    "    main()"
   ]
  },
  {
   "cell_type": "code",
   "execution_count": null,
   "id": "e760e56d",
   "metadata": {},
   "outputs": [],
   "source": [
    "#Que. 3\n",
    "class Animal:\n",
    "    def __init__(self,sound,number_of_legs,can_swim):\n",
    "        self.sound=sound\n",
    "        self.number_of_legs=number_of_legs\n",
    "        self._can_swim=can_swim\n",
    "        \n",
    "    def get_can_swim(self):\n",
    "        return self._can_swim\n",
    "    \n",
    "    def set_can_swim(self):\n",
    "        if self.number_of_legs>4:\n",
    "            return True\n",
    "        else:\n",
    "            return False\n",
    "        \n",
    "def main():\n",
    "    animal=Animal('Roar',3,True)\n",
    "    print(animal.sound,animal.number_of_legs)\n",
    "    print(animal.get_can_swim())\n",
    "    print(animal.set_can_swim())\n",
    "    \n",
    "if __name__=='__main__':\n",
    "    main()"
   ]
  },
  {
   "cell_type": "code",
   "execution_count": null,
   "id": "30f81038",
   "metadata": {},
   "outputs": [],
   "source": [
    "#Que. 4\n",
    "class Animal:\n",
    "    hunt_for_food=True\n",
    "    def __init__(self,sound,number_of_legs,can_swim):\n",
    "        self.sound=sound\n",
    "        self.number_of_legs=number_of_legs\n",
    "        self._can_swim=can_swim\n",
    "        \n",
    "    def get_can_swim(self):\n",
    "        return self._can_swim\n",
    "    \n",
    "    def set_can_swim(self):\n",
    "        if self.number_of_legs>4:\n",
    "            return True\n",
    "        else:\n",
    "            return False\n",
    "        \n",
    "def main():\n",
    "    animal=Animal('Roar',3,True)\n",
    "    print(animal.sound,animal.number_of_legs)\n",
    "    print(animal.set_can_swim())\n",
    "    print(Animal.hunt_for_food)\n",
    "if __name__=='__main__':\n",
    "    main()"
   ]
  },
  {
   "cell_type": "code",
   "execution_count": null,
   "id": "4e9ee587",
   "metadata": {},
   "outputs": [],
   "source": [
    "#Que. 5\n",
    "class Animal:\n",
    "    count=0\n",
    "    def __init__(self,sound,number_of_legs):\n",
    "        self.sound=sound\n",
    "        self.number_of_legs=number_of_legs\n",
    "        Animal.count+=1\n",
    "        \n",
    "def main():\n",
    "    animal=Animal('Roar',3)\n",
    "    animal1=Animal('Bark',3)\n",
    "    print(Animal.count)\n",
    "    \n",
    "if __name__=='__main__':\n",
    "    main()"
   ]
  },
  {
   "cell_type": "code",
   "execution_count": null,
   "id": "9da4faed",
   "metadata": {},
   "outputs": [],
   "source": [
    "#Que. 6\n",
    "class Animal:\n",
    "\n",
    "    def __init__(self,name):\n",
    "        self.name=name\n",
    "        \n",
    "def main():\n",
    "    animals=[Animal('Lion'),Animal('Tiger'),Animal('Elephant'),Animal('Dog'),Animal('Cat')]\n",
    "    \n",
    "    for animal in animals:\n",
    "        print(animal.name)\n",
    "if __name__=='__main__':\n",
    "    main()"
   ]
  },
  {
   "cell_type": "code",
   "execution_count": null,
   "id": "5a4d7926",
   "metadata": {},
   "outputs": [],
   "source": []
  },
  {
   "cell_type": "code",
   "execution_count": null,
   "id": "be7716e5",
   "metadata": {},
   "outputs": [],
   "source": []
  }
 ],
 "metadata": {
  "kernelspec": {
   "display_name": "Python 3 (ipykernel)",
   "language": "python",
   "name": "python3"
  },
  "language_info": {
   "codemirror_mode": {
    "name": "ipython",
    "version": 3
   },
   "file_extension": ".py",
   "mimetype": "text/x-python",
   "name": "python",
   "nbconvert_exporter": "python",
   "pygments_lexer": "ipython3",
   "version": "3.9.13"
  }
 },
 "nbformat": 4,
 "nbformat_minor": 5
}
