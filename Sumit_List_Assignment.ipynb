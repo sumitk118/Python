{
 "cells": [
  {
   "cell_type": "code",
   "execution_count": 18,
   "id": "26db0019",
   "metadata": {},
   "outputs": [
    {
     "name": "stdout",
     "output_type": "stream",
     "text": [
      "[]\n"
     ]
    }
   ],
   "source": [
    "#1.To find duplicates elements in list\n",
    "list1=[1, 2, 1, 2, 3, 4, 5, 1, 1, 2, 5, 6, 7, 8, 9, 9]\n",
    "unique=[]\n",
    "duplicate=[]\n",
    "if i in list1:\n",
    "    if i not in unique:\n",
    "        unique.append(i)\n",
    "    elif i not in duplicate:\n",
    "        duplicate.append(i)\n",
    "print(duplicate)"
   ]
  },
  {
   "cell_type": "code",
   "execution_count": 12,
   "id": "6f5e2225",
   "metadata": {},
   "outputs": [
    {
     "name": "stdout",
     "output_type": "stream",
     "text": [
      "List before sorting :  [1, 2, 3, 4, 5, 6, 5, 4, 3, 21, 3]\n",
      "List after sorting :  [1, 2, 3, 3, 3, 4, 4, 5, 5, 6, 21]\n"
     ]
    }
   ],
   "source": [
    "#2.To sort the given list\n",
    "list1=[1,2,3,4,5,6,5,4,3,21,3]\n",
    "print('List before sorting : ',list1)\n",
    "list1.sort()\n",
    "print('List after sorting : ',list1)"
   ]
  },
  {
   "cell_type": "code",
   "execution_count": 13,
   "id": "bf7f107e",
   "metadata": {},
   "outputs": [
    {
     "name": "stdout",
     "output_type": "stream",
     "text": [
      "Even :  [2, 4, 6, 4]\n",
      "Odd :  [1, 3, 5, 5, 3, 21, 3]\n"
     ]
    }
   ],
   "source": [
    "#3.To create a list such that new list contains alternate even and odd from given list\n",
    "list1=[1,2,3,4,5,6,5,4,3,21,3]\n",
    "even=[]\n",
    "odd=[]\n",
    "for i in list1:\n",
    "    if i%2==0:\n",
    "        even.append(i)\n",
    "    else:\n",
    "        odd.append(i)\n",
    "print('Even : ',even)\n",
    "print('Odd : ',odd)"
   ]
  },
  {
   "cell_type": "code",
   "execution_count": 3,
   "id": "c894664e",
   "metadata": {},
   "outputs": [
    {
     "name": "stdout",
     "output_type": "stream",
     "text": [
      "Max number is : 21\n"
     ]
    }
   ],
   "source": [
    "#4.Python program to get the largest number from a list\n",
    "list1=[1,2,3,4,5,6,5,4,3,21,3]\n",
    "print('Max number is :',max(list1))"
   ]
  },
  {
   "cell_type": "code",
   "execution_count": 4,
   "id": "23b1c41a",
   "metadata": {},
   "outputs": [
    {
     "name": "stdout",
     "output_type": "stream",
     "text": [
      "performance\n",
      "iai\n",
      "that\n",
      "ignites\n",
      "you\n",
      "one\n",
      "punch\n",
      "man\n"
     ]
    }
   ],
   "source": [
    "#5.Program to count the number of strings where the string length is 2 or more \n",
    "and the first and last character are same from a given list of strings.\n",
    "l1=['performance','iai', 'that', 'ignites', 'you','one','punch','man']\n",
    "for i in l1:\n",
    "    if len(l1)>=2:\n",
    "        print(i)\n",
    "        if l1[0]==l1[-1]:\n",
    "            print(i)"
   ]
  },
  {
   "cell_type": "code",
   "execution_count": 2,
   "id": "8663d287",
   "metadata": {},
   "outputs": [
    {
     "name": "stdout",
     "output_type": "stream",
     "text": [
      "Original List :  [1, 2, 3, 4, 5, 6, 5, 4, 3, 21, 3]\n",
      "List after removal of duplicates :  [1, 2, 3, 4, 5, 6, 21]\n"
     ]
    }
   ],
   "source": [
    "#6.To remove duplicates elements in list\n",
    "list1=[1,2,3,4,5,6,5,4,3,21,3]\n",
    "print('Original List : ',list1)\n",
    "temp=[]\n",
    "for i in list1:\n",
    "    if i not in temp:\n",
    "        temp.append(i)\n",
    "print('List after removal of duplicates : ',temp)"
   ]
  },
  {
   "cell_type": "code",
   "execution_count": 18,
   "id": "86c8d79f",
   "metadata": {},
   "outputs": [
    {
     "name": "stdout",
     "output_type": "stream",
     "text": [
      "Longer Words : ['cannot', 'acknowledge', 'thmeselves', 'eventually']\n"
     ]
    }
   ],
   "source": [
    "#7.Program to find the list of words that are longer than given words.\n",
    "n=5\n",
    "l1='those who cannot acknowledge thmeselves will eventually fail'\n",
    "new=[]\n",
    "temp=l1.split()\n",
    "for i in temp:\n",
    "    if len(i)>n:\n",
    "        new.append(i)\n",
    "print('Longer Words :',new)"
   ]
  },
  {
   "cell_type": "code",
   "execution_count": 26,
   "id": "508a8ef7",
   "metadata": {},
   "outputs": [
    {
     "name": "stdout",
     "output_type": "stream",
     "text": [
      "True\n"
     ]
    }
   ],
   "source": [
    "#8.Python function that takes two lists and returns True if they have at least one common member.\n",
    "l1=[1,3,4,5,2,3]\n",
    "l2=[1,3,4,2,3,5]\n",
    "result=False\n",
    "for i in l1:\n",
    "    for j in l2:\n",
    "        if i==j:\n",
    "            result=True\n",
    "print(result)\n",
    "        "
   ]
  },
  {
   "cell_type": "code",
   "execution_count": 39,
   "id": "ed3d121d",
   "metadata": {},
   "outputs": [
    {
     "name": "stdout",
     "output_type": "stream",
     "text": [
      "['Green', 'White', 'Black']\n"
     ]
    }
   ],
   "source": [
    "#9.Python program to print a specified list after removing the 0th, 4th and 5th elements.\n",
    "lis=['Red', 'Green', 'White', 'Black', 'Pink', 'Yellow']\n",
    "lis.remove('Red')\n",
    "lis.remove('Pink')\n",
    "lis.remove('Yellow')\n",
    "print(lis)"
   ]
  },
  {
   "cell_type": "code",
   "execution_count": 3,
   "id": "245c7f45",
   "metadata": {},
   "outputs": [
    {
     "name": "stdout",
     "output_type": "stream",
     "text": [
      "[1, 5, 333, 5, 3, 33, 5, 47, 5, 5, 25, 47]\n"
     ]
    }
   ],
   "source": [
    "#10.program to print the numbers of a specified list after removing even numbers from it\n",
    "list1=[1,4,2,5,6,333,5,3,2,2,22,33,5,47,5,5,20,22,25,47]\n",
    "list2=[]\n",
    "new=[]\n",
    "for i in list1:\n",
    "    if i%2==0:\n",
    "        list2.append(i)\n",
    "    else:\n",
    "        new.append(i)\n",
    "print(new)"
   ]
  },
  {
   "cell_type": "code",
   "execution_count": null,
   "id": "6105db3d",
   "metadata": {},
   "outputs": [],
   "source": []
  }
 ],
 "metadata": {
  "kernelspec": {
   "display_name": "Python 3 (ipykernel)",
   "language": "python",
   "name": "python3"
  },
  "language_info": {
   "codemirror_mode": {
    "name": "ipython",
    "version": 3
   },
   "file_extension": ".py",
   "mimetype": "text/x-python",
   "name": "python",
   "nbconvert_exporter": "python",
   "pygments_lexer": "ipython3",
   "version": "3.9.13"
  }
 },
 "nbformat": 4,
 "nbformat_minor": 5
}
